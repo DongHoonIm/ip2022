{
 "cells": [
  {
   "cell_type": "code",
   "execution_count": 7,
   "metadata": {},
   "outputs": [],
   "source": [
    "import sys\n",
    "import numpy as np\n",
    "import cv2\n",
    "\n",
    "img_names = ['dsu7.jpg', 'dsu8.jpg']\n",
    "\n",
    "imgs = []\n",
    "for name in img_names:\n",
    "    img = cv2.imread(name)\n",
    "\n",
    "    if img is None:\n",
    "        print('Image load failed!')\n",
    "        sys.exit()\n",
    "\n",
    "    imgs.append(img)\n",
    "\n",
    "stitcher=cv2.Stitcher_create()\n",
    "status,dst=stitcher.stitch(imgs)\n",
    "\n",
    "if status != cv2.Stitcher_OK:\n",
    "    print('failed!')\n",
    "    sys.exit()\n",
    "\n",
    "cv2.imwrite('output.jpg',dst)\n",
    "\n",
    "cv2.namedWindow('dst',cv2.WINDOW_NORMAL)\n",
    "cv2.imshow('dst',dst)\n",
    "cv2.waitKey()\n",
    "cv2.destroyAllWindows()"
   ]
  }
 ],
 "metadata": {
  "kernelspec": {
   "display_name": "Python 3.8.13 ('opencv')",
   "language": "python",
   "name": "python3"
  },
  "language_info": {
   "codemirror_mode": {
    "name": "ipython",
    "version": 3
   },
   "file_extension": ".py",
   "mimetype": "text/x-python",
   "name": "python",
   "nbconvert_exporter": "python",
   "pygments_lexer": "ipython3",
   "version": "3.8.13"
  },
  "orig_nbformat": 4,
  "vscode": {
   "interpreter": {
    "hash": "f2a1e0364a2fa81a67875fb3b3141f2f4a2a73b65f31becf23b167515cddcfe1"
   }
  }
 },
 "nbformat": 4,
 "nbformat_minor": 2
}
