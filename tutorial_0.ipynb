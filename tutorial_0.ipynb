{
  "nbformat": 4,
  "nbformat_minor": 0,
  "metadata": {
    "colab": {
      "provenance": [],
      "collapsed_sections": []
    },
    "kernelspec": {
      "name": "python3",
      "display_name": "Python 3"
    },
    "language_info": {
      "name": "python"
    }
  },
  "cells": [
    {
      "cell_type": "code",
      "execution_count": 11,
      "metadata": {
        "id": "9Xe1Ut4lw30E"
      },
      "outputs": [],
      "source": [
        "x = 34 - 23"
      ]
    },
    {
      "cell_type": "code",
      "source": [
        "y = \"Hello\""
      ],
      "metadata": {
        "id": "QndNyowiyX-h"
      },
      "execution_count": 12,
      "outputs": []
    },
    {
      "cell_type": "code",
      "source": [
        "z = 3.45"
      ],
      "metadata": {
        "id": "pUD6HcnJyZ25"
      },
      "execution_count": 13,
      "outputs": []
    },
    {
      "cell_type": "code",
      "source": [
        "if z == 3.45 or y == \"Hello\" :\n",
        "  x = x + 1\n",
        "  y = y + \" World \""
      ],
      "metadata": {
        "id": "inXe-Fn2yb4S"
      },
      "execution_count": 14,
      "outputs": []
    },
    {
      "cell_type": "code",
      "source": [
        "print (x)\n",
        "print (y)"
      ],
      "metadata": {
        "colab": {
          "base_uri": "https://localhost:8080/"
        },
        "id": "EEXkKXH1yjA5",
        "outputId": "57cf2009-93a2-4205-a43e-f22176f6a3f2"
      },
      "execution_count": 15,
      "outputs": [
        {
          "output_type": "stream",
          "name": "stdout",
          "text": [
            "13\n",
            "HelloWorld\n"
          ]
        }
      ]
    }
  ]
}